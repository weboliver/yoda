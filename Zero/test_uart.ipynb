{
 "cells": [
  {
   "cell_type": "code",
   "execution_count": null,
   "metadata": {},
   "outputs": [],
   "source": [
    "'''\n",
    "UART communication on Raspberry Pi using Pyhton\n",
    "http://www.electronicwings.com\n",
    "'''\n",
    "import serial\n",
    "from time import sleep\n",
    "\n",
    "ser = serial.Serial (\"/dev/ttyS0\", 115200)    #Open port with baud rate\n",
    "while True:\n",
    "    received_data = ser.readline()              #read serial port\n",
    "    #sleep(0.03)\n",
    "    #data_left = ser.inWaiting()             #check for remaining byte\n",
    "    #received_data += ser.read(data_left)\n",
    "    print (str(received_data).split(\",\")[1])                   #print received data\n",
    "    # ser.write(received_data)                #transmit data serially\n",
    "    # if (received_data) is None:\n",
    "    #    break"
   ]
  }
 ],
 "metadata": {
  "interpreter": {
   "hash": "31f2aee4e71d21fbe5cf8b01ff0e069b9275f58929596ceb00d14d90e3e16cd6"
  },
  "kernelspec": {
   "display_name": "Python 3.7.3 32-bit",
   "language": "python",
   "name": "python3"
  },
  "language_info": {
   "codemirror_mode": {
    "name": "ipython",
    "version": 3
   },
   "file_extension": ".py",
   "mimetype": "text/x-python",
   "name": "python",
   "nbconvert_exporter": "python",
   "pygments_lexer": "ipython3",
   "version": "3.7.3"
  },
  "orig_nbformat": 4
 },
 "nbformat": 4,
 "nbformat_minor": 2
}
