{
 "cells": [
  {
   "cell_type": "code",
   "execution_count": 2,
   "metadata": {},
   "outputs": [],
   "source": [
    "from car import Car\n",
    "from Motor.mecanum_motor import MecanumMotorController\n",
    "from XBoxController.xboxcontroller import XBoxController\n",
    "\n",
    "mecanum_motor = MecanumMotorController(default_speed=50, max_speed=100)\n",
    "mecanum_motor.add_motor(\"VORNE_LINKS\", 23, 24, 25, True, True, 200)\n",
    "mecanum_motor.add_motor(\"VORNE_RECHTS\", 17, 22, 18, True, False, 200)\n",
    "mecanum_motor.add_motor(\"HINTEN_RECHTS\", 19, 13, 26, False, False, 200)\n",
    "mecanum_motor.add_motor(\"HINTEN_LINKS\", 20, 16, 21, False, True, 200)\n",
    "\n",
    "xboxController = XBoxController()\n",
    "\n",
    "newcar = Car(\"Yoda Car\", mecanum_motor, xboxController)\n",
    "newcar.start()"
   ]
  },
  {
   "cell_type": "code",
   "execution_count": null,
   "metadata": {},
   "outputs": [],
   "source": [
    "motorengine = newcar.get_motorengine()\n",
    "motorengine.car_move_forwards(30, 1)\n",
    "motorengine.car_move_backwards(30, 1)"
   ]
  },
  {
   "cell_type": "code",
   "execution_count": null,
   "metadata": {},
   "outputs": [],
   "source": [
    "newcar.stop()"
   ]
  },
  {
   "cell_type": "code",
   "execution_count": 3,
   "metadata": {},
   "outputs": [],
   "source": [
    "newcar.drive()"
   ]
  }
 ],
 "metadata": {
  "interpreter": {
   "hash": "31f2aee4e71d21fbe5cf8b01ff0e069b9275f58929596ceb00d14d90e3e16cd6"
  },
  "kernelspec": {
   "display_name": "Python 3.8.10 64-bit",
   "name": "python3"
  },
  "language_info": {
   "codemirror_mode": {
    "name": "ipython",
    "version": 3
   },
   "file_extension": ".py",
   "mimetype": "text/x-python",
   "name": "python",
   "nbconvert_exporter": "python",
   "pygments_lexer": "ipython3",
   "version": "3.8.10"
  },
  "orig_nbformat": 4
 },
 "nbformat": 4,
 "nbformat_minor": 2
}
