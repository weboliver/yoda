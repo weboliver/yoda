{
 "cells": [
  {
   "cell_type": "code",
   "execution_count": null,
   "source": [
    "from XBoxController.xbox import ConnectXboxBT, ReadXboxBT\n",
    "\n",
    "device = ConnectXboxBT()\n",
    "\n",
    "ReadXboxBT(device)"
   ],
   "outputs": [],
   "metadata": {}
  },
  {
   "cell_type": "code",
   "execution_count": null,
   "source": [
    "#import evdev\n",
    "from evdev import InputDevice, categorize, ecodes\n",
    "\n",
    "#creates object 'gamepad' to store the data\n",
    "#you can call it whatever you like\n",
    "gamepad = InputDevice('/dev/input/event0')\n",
    "\n",
    "#prints out device info at start\n",
    "print(gamepad)\n",
    "\n",
    "#evdev takes care of polling the controller in a loop\n",
    "for event in gamepad.read_loop():\n",
    "    print(event.type, event.value)\n",
    "    #Boutons | buttons \n",
    "    if event.type == ecodes.EV_KEY:\n",
    "        print(event)\n",
    "    #Gamepad analogique | Analog gamepad\n",
    "    elif event.type == ecodes.EV_ABS:\n",
    "        absevent = categorize(event)\n",
    "        print(ecodes.bytype[absevent.event.type][absevent.event.code], absevent.event.value)"
   ],
   "outputs": [],
   "metadata": {}
  }
 ],
 "metadata": {
  "orig_nbformat": 4,
  "language_info": {
   "name": "python",
   "version": "3.8.10",
   "mimetype": "text/x-python",
   "codemirror_mode": {
    "name": "ipython",
    "version": 3
   },
   "pygments_lexer": "ipython3",
   "nbconvert_exporter": "python",
   "file_extension": ".py"
  },
  "kernelspec": {
   "name": "python3",
   "display_name": "Python 3.8.10 64-bit"
  },
  "interpreter": {
   "hash": "31f2aee4e71d21fbe5cf8b01ff0e069b9275f58929596ceb00d14d90e3e16cd6"
  }
 },
 "nbformat": 4,
 "nbformat_minor": 2
}