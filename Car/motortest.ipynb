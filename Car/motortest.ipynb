{
 "cells": [
  {
   "cell_type": "code",
   "execution_count": null,
   "metadata": {},
   "outputs": [],
   "source": [
    "import time\n",
    "from Motor.mecanum_motor import MecanumMotorController\n",
    "mecanum_controller = MecanumMotorController(max_speed=50)\n",
    "mecanum_controller.add_motor(\"VORNE_LINKS\", 23, 24, 25, True, True)\n",
    "mecanum_controller.add_motor(\"VORNE_RECHTS\", 17, 22, 18, True, False)\n",
    "mecanum_controller.add_motor(\"HINTEN_RECHTS\", 19, 13, 26, False, False)\n",
    "mecanum_controller.add_motor(\"HINTEN_LINKS\", 20, 16, 21, False, True)\n",
    "mecanum_controller.start_motor()"
   ]
  },
  {
   "cell_type": "code",
   "execution_count": null,
   "metadata": {},
   "outputs": [],
   "source": [
    "mecanum_controller.car_move_forward_left(25)\n",
    "time.sleep(1)\n",
    "mecanum_controller.stop()\n",
    "time.sleep(2)\n",
    "print(\"Trenner\")\n",
    "# rechts\n",
    "mecanum_controller.car_move_forward_right(25)\n",
    "time.sleep(1)\n",
    "mecanum_controller.stop()\n",
    "time.sleep(1)\n",
    "print(\"Trenner\")\n",
    "mecanum_controller.car_move_backwards_left(25)\n",
    "time.sleep(1)\n",
    "mecanum_controller.stop()\n",
    "time.sleep(2)\n",
    "print(\"Trenner\")\n",
    "# rechts\n",
    "mecanum_controller.car_move_backwards_right(25)\n",
    "time.sleep(1)\n",
    "mecanum_controller.stop()"
   ]
  },
  {
   "cell_type": "code",
   "execution_count": null,
   "metadata": {},
   "outputs": [],
   "source": [
    "mecanum_controller.car_move_forwards(10, 1)\n",
    "for i in range(1, 20):\n",
    "    mecanum_controller.accelerate_car()\n",
    "    time.sleep(0.2)\n",
    "for i in range(1, 20):\n",
    "    mecanum_controller.brake_car()\n",
    "    time.sleep(0.2)\n",
    "mecanum_controller.stop()\n",
    "\n",
    "mecanum_controller.car_move_backwards(20, 1)\n",
    "mecanum_controller.stop()\n"
   ]
  },
  {
   "cell_type": "code",
   "execution_count": null,
   "metadata": {},
   "outputs": [],
   "source": [
    "mecanum_controller.stop()"
   ]
  },
  {
   "cell_type": "code",
   "execution_count": null,
   "metadata": {},
   "outputs": [],
   "source": [
    "import time\n",
    "\n",
    "mecanum_controller.car_slide_left(25)\n",
    "time.sleep(1)\n",
    "mecanum_controller.stop()\n",
    "\n",
    "# rechts\n",
    "mecanum_controller.car_slide_right(25)\n",
    "time.sleep(1)\n",
    "mecanum_controller.stop()"
   ]
  },
  {
   "cell_type": "code",
   "execution_count": null,
   "metadata": {},
   "outputs": [],
   "source": [
    "mecanum_controller.stop()"
   ]
  }
 ],
 "metadata": {
  "interpreter": {
   "hash": "31f2aee4e71d21fbe5cf8b01ff0e069b9275f58929596ceb00d14d90e3e16cd6"
  },
  "kernelspec": {
   "display_name": "Python 3.6.9 64-bit",
   "name": "python3"
  },
  "language_info": {
   "codemirror_mode": {
    "name": "ipython",
    "version": 3
   },
   "file_extension": ".py",
   "mimetype": "text/x-python",
   "name": "python",
   "nbconvert_exporter": "python",
   "pygments_lexer": "ipython3",
   "version": "3.6.9"
  },
  "orig_nbformat": 4
 },
 "nbformat": 4,
 "nbformat_minor": 2
}
