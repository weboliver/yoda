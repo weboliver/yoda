{
 "cells": [
  {
   "cell_type": "code",
   "execution_count": null,
   "metadata": {},
   "outputs": [],
   "source": [
    "import sys\n",
    "\n",
    "sys.path.append(\"..\")\n",
    "\n",
    "import time\n",
    "from Automation.automation import Automation\n",
    "from Automation.automation_programs import AutomationPrograms\n",
    "from Sensors.ultrasonic import UltraSonic\n",
    "from car import Car\n",
    "from Motor.bot_motor import BotMotorController\n",
    "\n",
    "sensor_object = UltraSonic()\n",
    "programs = AutomationPrograms()\n",
    "selfDriving = Automation(programs)\n",
    "selfDriving.add_sensor(\"UltraSonic\", sensor_object)\n",
    "\n",
    "motorcontroller = BotMotorController(default_speed=50, max_speed=100)\n",
    "motorcontroller.add_motor(\"Motor1\", 19, 13, 26, True, True, 1000)\n",
    "motorcontroller.add_motor(\"Motor2\", 27, 17, 22, True, False, 1000)\n",
    "\n",
    "newcar = Car(\"Lukes Car\", motorcontroller, None, selfDriving)\n",
    "\n",
    "newcar.start()"
   ]
  },
  {
   "cell_type": "code",
   "execution_count": null,
   "metadata": {},
   "outputs": [],
   "source": [
    "newcar.drive(\"autoprogram_one\")"
   ]
  },
  {
   "cell_type": "code",
   "execution_count": null,
   "metadata": {},
   "outputs": [],
   "source": [
    "newcar.stop()\n",
    "Result = newcar.get_motorengine() \n",
    "Result = None"
   ]
  },
  {
   "cell_type": "code",
   "execution_count": null,
   "metadata": {},
   "outputs": [],
   "source": [
    "selfDriving.autoprogram[\"action\"]"
   ]
  },
  {
   "cell_type": "code",
   "execution_count": null,
   "metadata": {},
   "outputs": [],
   "source": [
    "\n",
    "newcar.handleevent(actionevent)"
   ]
  },
  {
   "cell_type": "code",
   "execution_count": null,
   "metadata": {},
   "outputs": [],
   "source": [
    "import sys\n",
    "\n",
    "sys.path.append(\"..\")\n",
    "\n",
    "import time\n",
    "\n",
    "motorcontroller.start_motor()\n",
    "motorcontroller.car_move_forwards()\n",
    "time.sleep(0.5)\n",
    "\n",
    "motorcontroller.car_move_backwards()\n",
    "time.sleep(0.5)\n",
    "\n",
    "motorcontroller.car_move_left()\n",
    "time.sleep(0.5)\n",
    "\n",
    "motorcontroller.car_move_right()\n",
    "time.sleep(0.5)\n",
    "\n",
    "motorcontroller.car_move_backwards_right()\n",
    "time.sleep(0.5)\n",
    "\n",
    "motorcontroller.car_move_backwards_left()\n",
    "time.sleep(0.5)\n",
    "motorcontroller.stop()"
   ]
  }
 ],
 "metadata": {
  "interpreter": {
   "hash": "31f2aee4e71d21fbe5cf8b01ff0e069b9275f58929596ceb00d14d90e3e16cd6"
  },
  "kernelspec": {
   "display_name": "Python 3.7.3 32-bit",
   "language": "python",
   "name": "python3"
  },
  "language_info": {
   "codemirror_mode": {
    "name": "ipython",
    "version": 3
   },
   "file_extension": ".py",
   "mimetype": "text/x-python",
   "name": "python",
   "nbconvert_exporter": "python",
   "pygments_lexer": "ipython3",
   "version": "3.7.3"
  },
  "orig_nbformat": 4
 },
 "nbformat": 4,
 "nbformat_minor": 2
}
